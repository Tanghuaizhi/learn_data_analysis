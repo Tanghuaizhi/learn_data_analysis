{
 "cells": [
  {
   "cell_type": "markdown",
   "metadata": {},
   "source": [
    "# Gapminder上的农用地数据清理\n",
    "按照练习4最后一个小练习的要求，从[Gapminder](https://www.gapminder.org/data/)上下载感兴趣的数据，并用[lesson5 探索两个变量](https://classroom.udacity.com/nanodegrees/nd002-cn-advanced-vip/parts/7af8e761-54e5-4c80-a284-e402c30a791b)上学到的基本方法绘制2-5张图。  \n",
    "此部分是数据的获取、清理部分。分析部分在此文件夹中的R部分完成。  \n",
    "整个清理步骤为：收集数据—评估数据—清理数据。  \n",
    "值得一提的是，由于是小练习，不准备花费过多时间，所以并不准备全面评估并解决所有问题，当数据清理达到使用目的即可。\n",
    "\n",
    "## 分析目的\n",
    "简单浏览了数据后，确定主要来分析农用地面积比例与年份的关系。\n",
    "准备制作3张图：\n",
    "（1）散点图。\n",
    "（2）\n",
    "\n",
    "## 收集数据\n",
    "从网站上下载全球农用地数据。  \n",
    "**数据名称：**Agricultural land (% of land area)；  \n",
    "**数据格式：**Excel；  \n",
    "**数据原始来源：**world bank；  \n",
    "**数据描述：**1960年代到2009年各国的农用地面积比重。"
   ]
  },
  {
   "cell_type": "code",
   "execution_count": 1,
   "metadata": {},
   "outputs": [],
   "source": [
    "import pandas as pd"
   ]
  },
  {
   "cell_type": "code",
   "execution_count": null,
   "metadata": {},
   "outputs": [],
   "source": [
    "df = pd.read_csv()"
   ]
  }
 ],
 "metadata": {
  "kernelspec": {
   "display_name": "Python 3",
   "language": "python",
   "name": "python3"
  },
  "language_info": {
   "codemirror_mode": {
    "name": "ipython",
    "version": 3
   },
   "file_extension": ".py",
   "mimetype": "text/x-python",
   "name": "python",
   "nbconvert_exporter": "python",
   "pygments_lexer": "ipython3",
   "version": "3.6.5"
  },
  "toc": {
   "base_numbering": 1,
   "nav_menu": {},
   "number_sections": false,
   "sideBar": true,
   "skip_h1_title": false,
   "title_cell": "Table of Contents",
   "title_sidebar": "Contents",
   "toc_cell": false,
   "toc_position": {},
   "toc_section_display": true,
   "toc_window_display": false
  }
 },
 "nbformat": 4,
 "nbformat_minor": 2
}
